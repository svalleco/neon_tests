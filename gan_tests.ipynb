{
 "cells": [
  {
   "cell_type": "code",
   "execution_count": 1,
   "metadata": {},
   "outputs": [],
   "source": [
    "import numpy as np\n",
    "import matplotlib.pyplot as plt\n",
    "%matplotlib inline"
   ]
  },
  {
   "cell_type": "code",
   "execution_count": 2,
   "metadata": {},
   "outputs": [],
   "source": [
    "#dat = np.load(\"tiny_data.npz\")\n",
    "from gen_data_norm import gen_rhs"
   ]
  },
  {
   "cell_type": "code",
   "execution_count": 22,
   "metadata": {},
   "outputs": [],
   "source": [
    "#arr = dat.items()[0][1][:100, :]\n",
    "#arr = dat[0][:100, :]\n",
    "#print arr"
   ]
  },
  {
   "cell_type": "code",
   "execution_count": 23,
   "metadata": {},
   "outputs": [],
   "source": [
    "#plt.imshow(arr[99].reshape((25, 25, 25))[:, 10, :])\n",
    "#plt.colorbar()"
   ]
  },
  {
   "cell_type": "code",
   "execution_count": 3,
   "metadata": {},
   "outputs": [
    {
     "name": "stderr",
     "output_type": "stream",
     "text": [
      "DISPLAY:neon:mklEngine.so not found; falling back to cpu backend\n",
      "/Users/svalleco/GAN/neon2.2/.venv2/lib/python2.7/site-packages/sklearn/cross_validation.py:41: DeprecationWarning: This module was deprecated in version 0.18 in favor of the model_selection module into which all the refactored classes and functions are moved. Also note that the interface of the new CV iterators are different from that of this module. This module will be removed in 0.20.\n",
      "  \"This module will be removed in 0.20.\", DeprecationWarning)\n"
     ]
    }
   ],
   "source": [
    "import os\n",
    "from datetime import datetime\n",
    "from neon.callbacks.callbacks import Callbacks, GANCostCallback\n",
    "#from neon.callbacks.plotting_callbacks import GANPlotCallback\n",
    "from neon.initializers import Gaussian\n",
    "from neon.layers import GeneralizedGANCost, Affine, Sequential, Conv, Deconv, Dropout, Pooling, BatchNorm\n",
    "from neon.layers.layer import Linear, Reshape\n",
    "from neon.layers.container import GenerativeAdversarial\n",
    "from neon.models.model import GAN, Model\n",
    "from neon.transforms import Rectlin, Logistic, GANCost, Tanh\n",
    "from neon.util.argparser import NeonArgparser\n",
    "from neon.util.persist import ensure_dirs_exist\n",
    "from neon.layers.layer import Dropout\n",
    "from neon.data.dataiterator import ArrayIterator\n",
    "from neon.optimizers import GradientDescentMomentum, RMSProp\n",
    "from neon.backends import gen_backend\n",
    "import numpy as np\n",
    "from sklearn.cross_validation import train_test_split"
   ]
  },
  {
   "cell_type": "code",
   "execution_count": 25,
   "metadata": {},
   "outputs": [],
   "source": [
    "#X = arr.copy()\n",
    "#y = np.ones(arr.shape[0])\n",
    "#X[X < 1e-6] = 0\n",
    "#print X[X>100]"
   ]
  },
  {
   "cell_type": "code",
   "execution_count": 26,
   "metadata": {},
   "outputs": [],
   "source": [
    "#mean = np.mean(X, axis=0, keepdims=True)\n",
    "#print mean\n",
    "#xmax = np.amax(X)\n",
    "#print xmax"
   ]
  },
  {
   "cell_type": "code",
   "execution_count": 27,
   "metadata": {},
   "outputs": [],
   "source": [
    "#X -=mean\n",
    "#print X"
   ]
  },
  {
   "cell_type": "code",
   "execution_count": 28,
   "metadata": {},
   "outputs": [],
   "source": [
    "#plt.imshow(X[2].reshape((25, 25, 25))[:, 12, :])\n",
    "#plt.colorbar()"
   ]
  },
  {
   "cell_type": "code",
   "execution_count": 4,
   "metadata": {},
   "outputs": [
    {
     "name": "stdout",
     "output_type": "stream",
     "text": [
      "((100, 15625), 'X train shape')\n",
      "((100,), 'y train shape')\n"
     ]
    }
   ],
   "source": [
    "#X_train, X_test, y_train, y_test = train_test_split(X, y, train_size=0.9, random_state=42)\n",
    "X_train, y_train = gen_rhs(100)\n",
    "X_test, y_test = gen_rhs(10)\n",
    "X_train /= 30.0\n",
    "X_train = 1- X_train\n",
    "print(X_train.shape, 'X train shape')\n",
    "print(y_train.shape, 'y train shape')"
   ]
  },
  {
   "cell_type": "code",
   "execution_count": 5,
   "metadata": {},
   "outputs": [],
   "source": [
    "gen_backend(backend='cpu', batch_size=10)\n",
    "train_set = ArrayIterator(X=X_train, y=y_train, nclass=2, lshape=(1, 25, 25, 25))\n",
    "valid_set = ArrayIterator(X=X_test, y=y_test, nclass=2)"
   ]
  },
  {
   "cell_type": "code",
   "execution_count": 10,
   "metadata": {
    "scrolled": true
   },
   "outputs": [
    {
     "data": {
      "text/plain": [
       "[<matplotlib.lines.Line2D at 0x10d5b7cd0>]"
      ]
     },
     "execution_count": 10,
     "metadata": {},
     "output_type": "execute_result"
    },
    {
     "data": {
      "image/png": "[encoded data removed]",
      "text/plain": [
       "<matplotlib.figure.Figure at 0x10d4566d0>"
      ]
     },
     "metadata": {},
     "output_type": "display_data"
    }
   ],
   "source": [
    "plt.plot(X_train[11].reshape((25, 25, 25))[12, 12, :])"
   ]
  },
  {
   "cell_type": "code",
   "execution_count": 13,
   "metadata": {},
   "outputs": [
    {
     "data": {
      "text/plain": [
       "<matplotlib.image.AxesImage at 0x10da0bd50>"
      ]
     },
     "execution_count": 13,
     "metadata": {},
     "output_type": "execute_result"
    },
    {
     "data": {
      "image/png": "[encoded data removed]",
      "text/plain": [
       "<matplotlib.figure.Figure at 0x10d8bd0d0>"
      ]
     },
     "metadata": {},
     "output_type": "display_data"
    }
   ],
   "source": [
    "plt.imshow(X_train[2].reshape((25, 25, 25))[:, 12, :])"
   ]
  },
  {
   "cell_type": "markdown",
   "metadata": {},
   "source": [
    "## Model.py and Callbacks.py changed"
   ]
  },
  {
   "cell_type": "code",
   "execution_count": 14,
   "metadata": {},
   "outputs": [
    {
     "name": "stdout",
     "output_type": "stream",
     "text": [
      "Epoch 0   [Train |████████████████████|   10/10   batches, 1.76490092 cost, 115.89s]\n",
      "Epoch 1   [Train |████████████████████|   10/10   batches, 1.43650436 cost, 131.71s]\n",
      "Epoch 2   [Train |████████████████████|   10/10   batches, 1.43341577 cost, 140.65s]\n",
      "Epoch 3   [Train |████████████████████|   10/10   batches, 1.44362187 cost, 133.40s]\n",
      "Epoch 4   [Train |████████████████████|   10/10   batches, 1.43465495 cost, 130.93s]\n",
      "Epoch 5   [Train |████████████████████|   10/10   batches, 1.43578494 cost, 132.27s]\n",
      "Epoch 6   [Train |████████████████████|   10/10   batches, 1.42927504 cost, 150.40s]\n",
      "Epoch 7   [Train |████████████████████|   10/10   batches, 1.45106161 cost, 133.35s]\n",
      "Epoch 8   [Train |████████████████████|   10/10   batches, 1.42225754 cost, 135.42s]\n",
      "Epoch 9   [Train |████████████████████|   10/10   batches, 1.43066669 cost, 125.10s]\n"
     ]
    }
   ],
   "source": [
    "init = Gaussian(scale=0.01)\n",
    "\n",
    "# discriminiator using convolution layers\n",
    "lrelu = Rectlin(slope=0.1)  # leaky relu for discriminator\n",
    "# sigmoid = Logistic() # sigmoid activation function\n",
    "conv1 = dict(init=init, batch_norm=False, activation=lrelu, bias=init) # what's about BatchNorm Layer and batch_norm parameter?\n",
    "conv2 = dict(init=init, batch_norm=False, activation=lrelu, padding=2, bias=init)\n",
    "conv3 = dict(init=init, batch_norm=False, activation=lrelu, padding=1, bias=init)\n",
    "D_layers = [\n",
    "            Conv((5, 5, 5, 32), **conv1),\n",
    "            Dropout(keep = 0.8),\n",
    "            Conv((5, 5, 5, 8), **conv2),\n",
    "            BatchNorm(),\n",
    "            Dropout(keep = 0.8),\n",
    "            Conv((5, 5, 5, 8), **conv2),\n",
    "            BatchNorm(),\n",
    "            Dropout(keep = 0.8),\n",
    "            Conv((5, 5, 5, 8), **conv3),\n",
    "            BatchNorm(),\n",
    "            Dropout(keep = 0.8),\n",
    "            Pooling((2, 2, 2)),\n",
    "            Affine(1024, init=init, activation=lrelu),\n",
    "            BatchNorm(),\n",
    "            Affine(1024, init=init, activation=lrelu),\n",
    "            BatchNorm(),\n",
    "            Affine(1, init=init, bias=init, activation=Logistic())\n",
    "            ]\n",
    "\n",
    "# generator using convolution layers\n",
    "init_gen = Gaussian(scale=0.01)\n",
    "relu = Rectlin(slope=0)  # relu for generator\n",
    "pad1 = dict(pad_h=2, pad_w=2, pad_d=2)\n",
    "str1 = dict(str_h=2, str_w=2, str_d=2)\n",
    "conv1 = dict(init=init_gen, batch_norm=False, activation=lrelu, padding=pad1, strides=str1, bias=init_gen)\n",
    "pad2 = dict(pad_h=2, pad_w=2, pad_d=2)\n",
    "str2 = dict(str_h=2, str_w=2, str_d=2)\n",
    "conv2 = dict(init=init_gen, batch_norm=False, activation=lrelu, padding=pad2, strides=str2, bias=init_gen)\n",
    "pad3 = dict(pad_h=0, pad_w=0, pad_d=0)\n",
    "str3 = dict(str_h=1, str_w=1, str_d=1)\n",
    "conv3 = dict(init=init_gen, batch_norm=False, activation=Tanh(), padding=pad3, strides=str3, bias=init_gen)\n",
    "G_layers = [\n",
    "            Affine(1024, init=init_gen, bias=init_gen, activation=relu),\n",
    "            BatchNorm(),\n",
    "            Affine(8 * 7 * 7 * 7, init=init_gen, bias=init_gen),\n",
    "            Reshape((8, 7, 7, 7)),\n",
    "            Deconv((6, 6, 6, 6), **conv1), #14x14x14\n",
    "            BatchNorm(),\n",
    "            Deconv((5, 5, 5, 6), **conv2), #27x27x27\n",
    "            BatchNorm(),\n",
    "            Conv((3, 3, 3, 1), **conv3)\n",
    "            ]\n",
    "\n",
    "layers = GenerativeAdversarial(generator=Sequential(G_layers, name=\"Generator\"),\n",
    "                               discriminator=Sequential(D_layers, name=\"Discriminator\"))\n",
    "\n",
    "# setup optimizer\n",
    "optimizer = RMSProp(learning_rate=1e-3, decay_rate=0.9, epsilon=1e-8)\n",
    "# optimizer = GradientDescentMomentum(learning_rate=1e-3, momentum_coef = 0.9)\n",
    "\n",
    "# setup cost function as Binary CrossEntropy\n",
    "cost = GeneralizedGANCost(costfunc=GANCost(func=\"modified\"))\n",
    "\n",
    "nb_epochs = 10\n",
    "batch_size = 10\n",
    "latent_size = 50\n",
    "inb_classes = 2\n",
    "nb_test = 100\n",
    "\n",
    "# initialize model\n",
    "noise_dim = (latent_size)\n",
    "gan = GAN(layers=layers, noise_dim=noise_dim)\n",
    "\n",
    "# configure callbacks\n",
    "callbacks = Callbacks(gan, eval_set=valid_set)\n",
    "callbacks.add_callback(GANCostCallback())\n",
    "#callbacks.add_save_best_state_callback(\"./best_state.pkl\")\n",
    "\n",
    "# run fit\n",
    "gan.fit(train_set, num_epochs=nb_epochs, optimizer=optimizer,\n",
    "        cost=cost, callbacks=callbacks)"
   ]
  },
  {
   "cell_type": "code",
   "execution_count": null,
   "metadata": {},
   "outputs": [],
   "source": []
  },
  {
   "cell_type": "markdown",
   "metadata": {},
   "source": [
    "## Original neon"
   ]
  },
  {
   "cell_type": "code",
   "execution_count": 28,
   "metadata": {},
   "outputs": [
    {
     "name": "stdout",
     "output_type": "stream",
     "text": [
      "Epoch 0   [Train |████████████████████|    9/9    batches, 2.04 cost, 148.17s]\n",
      "Epoch 1   [Train |████████████████████|    9/9    batches, 1.41 cost, 162.09s]\n",
      "Epoch 2   [Train |████████████████████|    9/9    batches, 1.45 cost, 155.64s]\n",
      "Epoch 3   [Train |████████████████████|    9/9    batches, 1.43 cost, 176.33s]\n",
      "Epoch 4   [Train |████████████████████|    9/9    batches, 1.45 cost, 158.76s]\n",
      "Epoch 5   [Train |████████████████████|    9/9    batches, 1.44 cost, 158.20s]\n",
      "Epoch 6   [Train |████████████████████|    9/9    batches, 1.44 cost, 153.00s]\n",
      "Epoch 7   [Train |████████████████████|    9/9    batches, 1.43 cost, 167.29s]\n",
      "Epoch 8   [Train |████████████████████|    9/9    batches, 1.43 cost, 169.24s]\n",
      "Epoch 9   [Train |████████████████████|    9/9    batches, 1.44 cost, 169.72s]\n"
     ]
    }
   ],
   "source": [
    "init = Gaussian(scale=0.01)\n",
    "\n",
    "# discriminiator using convolution layers\n",
    "lrelu = Rectlin(slope=0.1)  # leaky relu for discriminator\n",
    "# sigmoid = Logistic() # sigmoid activation function\n",
    "conv1 = dict(init=init, batch_norm=False, activation=lrelu, bias=init) # what's about BatchNorm Layer and batch_norm parameter?\n",
    "conv2 = dict(init=init, batch_norm=False, activation=lrelu, padding=2, bias=init)\n",
    "conv3 = dict(init=init, batch_norm=False, activation=lrelu, padding=1, bias=init)\n",
    "D_layers = [\n",
    "            Conv((5, 5, 5, 32), **conv1),\n",
    "            Dropout(keep = 0.8),\n",
    "            Conv((5, 5, 5, 8), **conv2),\n",
    "            BatchNorm(),\n",
    "            Dropout(keep = 0.8),\n",
    "            Conv((5, 5, 5, 8), **conv2),\n",
    "            BatchNorm(),\n",
    "            Dropout(keep = 0.8),\n",
    "            Conv((5, 5, 5, 8), **conv3),\n",
    "            BatchNorm(),\n",
    "            Dropout(keep = 0.8),\n",
    "            Pooling((2, 2, 2)),\n",
    "            Affine(1024, init=init, activation=lrelu),\n",
    "            BatchNorm(),\n",
    "            Affine(1024, init=init, activation=lrelu),\n",
    "            BatchNorm(),\n",
    "            Affine(1, init=init, bias=init, activation=Logistic())\n",
    "            ]\n",
    "\n",
    "# generator using convolution layers\n",
    "init_gen = Gaussian(scale=0.01)\n",
    "relu = Rectlin(slope=0)  # relu for generator\n",
    "pad1 = dict(pad_h=2, pad_w=2, pad_d=2)\n",
    "str1 = dict(str_h=2, str_w=2, str_d=2)\n",
    "conv1 = dict(init=init_gen, batch_norm=False, activation=lrelu, padding=pad1, strides=str1, bias=init_gen)\n",
    "pad2 = dict(pad_h=2, pad_w=2, pad_d=2)\n",
    "str2 = dict(str_h=2, str_w=2, str_d=2)\n",
    "conv2 = dict(init=init_gen, batch_norm=False, activation=lrelu, padding=pad2, strides=str2, bias=init_gen)\n",
    "pad3 = dict(pad_h=0, pad_w=0, pad_d=0)\n",
    "str3 = dict(str_h=1, str_w=1, str_d=1)\n",
    "conv3 = dict(init=init_gen, batch_norm=False, activation=Tanh(), padding=pad3, strides=str3, bias=init_gen)\n",
    "G_layers = [\n",
    "            Affine(1024, init=init_gen, bias=init_gen, activation=relu),\n",
    "            BatchNorm(),\n",
    "            Affine(8 * 7 * 7 * 7, init=init_gen, bias=init_gen),\n",
    "            Reshape((8, 7, 7, 7)),\n",
    "            Deconv((6, 6, 6, 6), **conv1), #14x14x14\n",
    "            BatchNorm(),\n",
    "            Deconv((5, 5, 5, 6), **conv2), #27x27x27\n",
    "            BatchNorm(),\n",
    "            Conv((3, 3, 3, 1), **conv3)\n",
    "            ]\n",
    "\n",
    "layers = GenerativeAdversarial(generator=Sequential(G_layers, name=\"Generator\"),\n",
    "                               discriminator=Sequential(D_layers, name=\"Discriminator\"))\n",
    "\n",
    "# setup optimizer\n",
    "optimizer = RMSProp(learning_rate=1e-3, decay_rate=0.9, epsilon=1e-8)\n",
    "# optimizer = GradientDescentMomentum(learning_rate=1e-3, momentum_coef = 0.9)\n",
    "\n",
    "# setup cost function as Binary CrossEntropy\n",
    "cost = GeneralizedGANCost(costfunc=GANCost(func=\"modified\"))\n",
    "\n",
    "nb_epochs = 10\n",
    "batch_size = 10\n",
    "latent_size = 50\n",
    "inb_classes = 2\n",
    "nb_test = 100\n",
    "\n",
    "# initialize model\n",
    "noise_dim = (latent_size)\n",
    "gan = GAN(layers=layers, noise_dim=noise_dim)\n",
    "\n",
    "# configure callbacks\n",
    "callbacks = Callbacks(gan, eval_set=valid_set)\n",
    "callbacks.add_callback(GANCostCallback())\n",
    "#callbacks.add_save_best_state_callback(\"./best_state.pkl\")\n",
    "\n",
    "# run fit\n",
    "gan.fit(train_set, num_epochs=nb_epochs, optimizer=optimizer,\n",
    "        cost=cost, callbacks=callbacks)"
   ]
  },
  {
   "cell_type": "code",
   "execution_count": 29,
   "metadata": {
    "collapsed": true
   },
   "outputs": [],
   "source": [
    "test1 = my_generator.get_outputs(inference_set)\n",
    "test1 += mean\n",
    "\n",
    "test1 =  test1.reshape((100, 25, 25, 25))"
   ]
  },
  {
   "cell_type": "code",
   "execution_count": 30,
   "metadata": {},
   "outputs": [
    {
     "data": {
      "text/plain": [
       "<matplotlib.colorbar.Colorbar at 0x1304d5c18>"
      ]
     },
     "execution_count": 30,
     "metadata": {},
     "output_type": "execute_result"
    },
    {
     "data": {
      "image/png": "[encoded data removed]",
      "text/plain": [
       "<matplotlib.figure.Figure at 0x12612a3c8>"
      ]
     },
     "metadata": {},
     "output_type": "display_data"
    }
   ],
   "source": [
    "plt.imshow(test1[10, :, 12, :])\n",
    "plt.colorbar()"
   ]
  },
  {
   "cell_type": "code",
   "execution_count": 32,
   "metadata": {},
   "outputs": [
    {
     "data": {
      "text/plain": [
       "<matplotlib.colorbar.Colorbar at 0x130591c88>"
      ]
     },
     "execution_count": 32,
     "metadata": {},
     "output_type": "execute_result"
    },
    {
     "data": {
      "image/png": "[encoded data removed]",
      "text/plain": [
       "<matplotlib.figure.Figure at 0x12612a278>"
      ]
     },
     "metadata": {},
     "output_type": "display_data"
    }
   ],
   "source": [
    "plt.imshow(test1[12, :, :, 12])\n",
    "plt.colorbar()"
   ]
  },
  {
   "cell_type": "code",
   "execution_count": 35,
   "metadata": {},
   "outputs": [
    {
     "data": {
      "image/png": "[encoded data removed]",
      "text/plain": [
       "<matplotlib.figure.Figure at 0x11dfa0ef0>"
      ]
     },
     "metadata": {},
     "output_type": "display_data"
    }
   ],
   "source": [
    "for i in range(10):\n",
    "    plt.plot(test1[i, 12, 12, :])\n",
    "plt.savefig('output_distr.pdf')"
   ]
  },
  {
   "cell_type": "code",
   "execution_count": null,
   "metadata": {
    "collapsed": true
   },
   "outputs": [],
   "source": []
  },
  {
   "cell_type": "code",
   "execution_count": null,
   "metadata": {
    "collapsed": true
   },
   "outputs": [],
   "source": []
  },
  {
   "cell_type": "code",
   "execution_count": null,
   "metadata": {
    "collapsed": true
   },
   "outputs": [],
   "source": []
  },
  {
   "cell_type": "code",
   "execution_count": 15,
   "metadata": {},
   "outputs": [],
   "source": [
    "x_new = np.random.rand(100, latent_size)\n",
    "inference_set = ArrayIterator(x_new, None, nclass=2, lshape=(latent_size))\n",
    "my_generator = Model(gan.layers.generator)\n"
   ]
  },
  {
   "cell_type": "code",
   "execution_count": 16,
   "metadata": {},
   "outputs": [
    {
     "ename": "NameError",
     "evalue": "name 'mean' is not defined",
     "output_type": "error",
     "traceback": [
      "\u001b[0;31m---------------------------------------------------------------------------\u001b[0m",
      "\u001b[0;31mNameError\u001b[0m                                 Traceback (most recent call last)",
      "\u001b[0;32m<ipython-input-16-7a6005b9a4db>\u001b[0m in \u001b[0;36m<module>\u001b[0;34m()\u001b[0m\n\u001b[1;32m      1\u001b[0m \u001b[0mtest\u001b[0m \u001b[0;34m=\u001b[0m \u001b[0mmy_generator\u001b[0m\u001b[0;34m.\u001b[0m\u001b[0mget_outputs\u001b[0m\u001b[0;34m(\u001b[0m\u001b[0minference_set\u001b[0m\u001b[0;34m)\u001b[0m\u001b[0;34m\u001b[0m\u001b[0m\n\u001b[0;32m----> 2\u001b[0;31m \u001b[0mtest\u001b[0m \u001b[0;34m+=\u001b[0m \u001b[0mmean\u001b[0m\u001b[0;34m\u001b[0m\u001b[0m\n\u001b[0m\u001b[1;32m      3\u001b[0m \u001b[0;34m\u001b[0m\u001b[0m\n\u001b[1;32m      4\u001b[0m \u001b[0mtest\u001b[0m \u001b[0;34m=\u001b[0m  \u001b[0mtest\u001b[0m\u001b[0;34m.\u001b[0m\u001b[0mreshape\u001b[0m\u001b[0;34m(\u001b[0m\u001b[0;34m(\u001b[0m\u001b[0;36m100\u001b[0m\u001b[0;34m,\u001b[0m \u001b[0;36m25\u001b[0m\u001b[0;34m,\u001b[0m \u001b[0;36m25\u001b[0m\u001b[0;34m,\u001b[0m \u001b[0;36m25\u001b[0m\u001b[0;34m)\u001b[0m\u001b[0;34m)\u001b[0m\u001b[0;34m\u001b[0m\u001b[0m\n",
      "\u001b[0;31mNameError\u001b[0m: name 'mean' is not defined"
     ]
    }
   ],
   "source": [
    "test = my_generator.get_outputs(inference_set)\n",
    "test += mean\n",
    "\n",
    "test =  test.reshape((100, 25, 25, 25))"
   ]
  },
  {
   "cell_type": "code",
   "execution_count": 18,
   "metadata": {},
   "outputs": [
    {
     "ename": "IndexError",
     "evalue": "too many indices for array",
     "output_type": "error",
     "traceback": [
      "\u001b[0;31m---------------------------------------------------------------------------\u001b[0m",
      "\u001b[0;31mIndexError\u001b[0m                                Traceback (most recent call last)",
      "\u001b[0;32m<ipython-input-18-f264a57c0b06>\u001b[0m in \u001b[0;36m<module>\u001b[0;34m()\u001b[0m\n\u001b[0;32m----> 1\u001b[0;31m \u001b[0mplt\u001b[0m\u001b[0;34m.\u001b[0m\u001b[0mimshow\u001b[0m\u001b[0;34m(\u001b[0m\u001b[0mtest\u001b[0m\u001b[0;34m[\u001b[0m\u001b[0;36m0\u001b[0m\u001b[0;34m,\u001b[0m \u001b[0;34m:\u001b[0m\u001b[0;34m,\u001b[0m \u001b[0;36m12\u001b[0m\u001b[0;34m,\u001b[0m \u001b[0;34m:\u001b[0m\u001b[0;34m]\u001b[0m\u001b[0;34m)\u001b[0m\u001b[0;34m\u001b[0m\u001b[0m\n\u001b[0m\u001b[1;32m      2\u001b[0m \u001b[0mplt\u001b[0m\u001b[0;34m.\u001b[0m\u001b[0mcolorbar\u001b[0m\u001b[0;34m(\u001b[0m\u001b[0;34m)\u001b[0m\u001b[0;34m\u001b[0m\u001b[0m\n",
      "\u001b[0;31mIndexError\u001b[0m: too many indices for array"
     ]
    }
   ],
   "source": [
    "plt.imshow(test[0, :, 12, :])\n",
    "plt.colorbar()"
   ]
  },
  {
   "cell_type": "code",
   "execution_count": 24,
   "metadata": {},
   "outputs": [
    {
     "data": {
      "text/plain": [
       "<matplotlib.colorbar.Colorbar at 0x11bab66d8>"
      ]
     },
     "execution_count": 24,
     "metadata": {},
     "output_type": "execute_result"
    },
    {
     "data": {
      "image/png": "[encoded data removed]",
      "text/plain": [
       "<matplotlib.figure.Figure at 0x11baa1a90>"
      ]
     },
     "metadata": {},
     "output_type": "display_data"
    }
   ],
   "source": [
    "plt.imshow(test[12, :, :, 12])\n",
    "plt.colorbar()"
   ]
  },
  {
   "cell_type": "code",
   "execution_count": 25,
   "metadata": {},
   "outputs": [
    {
     "data": {
      "image/png": "[encoded data removed]",
      "text/plain": [
       "<matplotlib.figure.Figure at 0x11dee6630>"
      ]
     },
     "metadata": {},
     "output_type": "display_data"
    }
   ],
   "source": [
    "plt.plot(test[0, 12, 12, : ])\n",
    "plt.show()"
   ]
  },
  {
   "cell_type": "code",
   "execution_count": 26,
   "metadata": {},
   "outputs": [
    {
     "data": {
      "text/plain": [
       "array([[ 0.05530309,  0.05599188,  0.05553356,  0.05526203,  0.05513674,\n",
       "         0.05583674,  0.05655745,  0.05658168,  0.05573881,  0.05598341,\n",
       "         0.05595049,  0.0559646 ,  0.05570387,  0.05540949,  0.05648412,\n",
       "         0.05522768,  0.05500522,  0.05541708,  0.05547779,  0.0562312 ,\n",
       "         0.05506795,  0.0554008 ,  0.05501239,  0.05606633,  0.05531304],\n",
       "       [ 0.05640053,  0.054566  ,  0.05635238,  0.05623753,  0.05740398,\n",
       "         0.05658709,  0.05819311,  0.05535856,  0.05742246,  0.05514337,\n",
       "         0.05690914,  0.05524942,  0.05760251,  0.05512868,  0.05575248,\n",
       "         0.0551367 ,  0.05597888,  0.05493033,  0.05718162,  0.0550096 ,\n",
       "         0.05552285,  0.05498891,  0.0556716 ,  0.05567972,  0.05666146],\n",
       "       [ 0.05529277,  0.05503116,  0.05543863,  0.05552905,  0.05529863,\n",
       "         0.05594195,  0.05472383,  0.05452052,  0.05523501,  0.05522322,\n",
       "         0.0552465 ,  0.05568696,  0.05485205,  0.0549282 ,  0.05342441,\n",
       "         0.05583756,  0.05611169,  0.05585293,  0.05376969,  0.05570731,\n",
       "         0.05438092,  0.05519816,  0.05502471,  0.05620607,  0.05514817],\n",
       "       [ 0.05635022,  0.05501628,  0.05594197,  0.0554502 ,  0.05716453,\n",
       "         0.05532973,  0.05535151,  0.05611065,  0.0565993 ,  0.05388936,\n",
       "         0.0572997 ,  0.05526916,  0.05648341,  0.05434813,  0.05597838,\n",
       "         0.05511187,  0.0557898 ,  0.05444638,  0.05620864,  0.05424979,\n",
       "         0.05485959,  0.05484174,  0.05576006,  0.05541539,  0.05584692],\n",
       "       [ 0.05473869,  0.05606591,  0.05573137,  0.05591125,  0.05510771,\n",
       "         0.05526631,  0.05457326,  0.05715749,  0.0574123 ,  0.057248  ,\n",
       "         0.05619053,  0.0570053 ,  0.05585549,  0.05560395,  0.05541397,\n",
       "         0.0551877 ,  0.05547874,  0.05531018,  0.05604775,  0.0555103 ,\n",
       "         0.05409535,  0.05489885,  0.05558614,  0.05620103,  0.05402764],\n",
       "       [ 0.05646204,  0.0557038 ,  0.05725168,  0.05635421,  0.05661456,\n",
       "         0.05607951,  0.05767579,  0.0564849 ,  0.05837161,  0.05587811,\n",
       "         0.0579347 ,  0.05550063,  0.05703769,  0.05616347,  0.05631711,\n",
       "         0.05596398,  0.05768276,  0.05552613,  0.05611794,  0.05400398,\n",
       "         0.05757081,  0.05452844,  0.05624051,  0.05507227,  0.05590191],\n",
       "       [ 0.05571791,  0.05563714,  0.0550347 ,  0.05523028,  0.05590105,\n",
       "         0.05794214,  0.05700299,  0.05727574,  0.05632452,  0.05763355,\n",
       "         0.05748564,  0.05648838,  0.0576498 ,  0.05771779,  0.05562534,\n",
       "         0.05673507,  0.05589206,  0.05660563,  0.05568736,  0.05734016,\n",
       "         0.05689628,  0.0553118 ,  0.05603145,  0.05564731,  0.05499868],\n",
       "       [ 0.05705322,  0.05447125,  0.05634383,  0.05482547,  0.05610907,\n",
       "         0.05445985,  0.05555788,  0.05604264,  0.05617531,  0.05490795,\n",
       "         0.05671947,  0.05530048,  0.05636035,  0.05464221,  0.05602982,\n",
       "         0.05517498,  0.05789746,  0.05530529,  0.05733229,  0.055922  ,\n",
       "         0.05605207,  0.05541128,  0.05620698,  0.05524183,  0.05430156],\n",
       "       [ 0.05531114,  0.05560541,  0.05558224,  0.05646493,  0.05576233,\n",
       "         0.05538113,  0.05586946,  0.05586188,  0.05495825,  0.05601134,\n",
       "         0.05558959,  0.05826035,  0.0565892 ,  0.05554128,  0.05486826,\n",
       "         0.05738777,  0.05584118,  0.05757979,  0.05606418,  0.05521616,\n",
       "         0.05585209,  0.05584707,  0.05666661,  0.056862  ,  0.05588846],\n",
       "       [ 0.05629759,  0.05507394,  0.05585337,  0.05494153,  0.05648499,\n",
       "         0.05614166,  0.05809984,  0.05677808,  0.05948969,  0.05691044,\n",
       "         0.05814199,  0.0577896 ,  0.06117896,  0.05915349,  0.06050998,\n",
       "         0.05699618,  0.05991891,  0.05831138,  0.05858798,  0.05761662,\n",
       "         0.05788696,  0.05567375,  0.05803625,  0.05685171,  0.05588881],\n",
       "       [ 0.05489494,  0.0564692 ,  0.05607212,  0.05663414,  0.0558865 ,\n",
       "         0.05741367,  0.06013601,  0.06006156,  0.06125721,  0.06283494,\n",
       "         0.06499462,  0.06560094,  0.06666083,  0.06690677,  0.06606548,\n",
       "         0.06575214,  0.06641779,  0.06614196,  0.06355305,  0.06350569,\n",
       "         0.06002035,  0.05923916,  0.0581194 ,  0.05618063,  0.05720307],\n",
       "       [ 0.05617528,  0.05701621,  0.05918367,  0.06234756,  0.07204174,\n",
       "         0.07595427,  0.0841066 ,  0.09385912,  0.10231428,  0.10728998,\n",
       "         0.11180054,  0.11797397,  0.12170289,  0.12032399,  0.12255673,\n",
       "         0.11166295,  0.1127124 ,  0.10553207,  0.09601416,  0.08329149,\n",
       "         0.08031428,  0.07025999,  0.0665082 ,  0.06229794,  0.05987249],\n",
       "       [ 0.05931411,  0.07050999,  0.09410112,  0.13199562,  0.18953359,\n",
       "         0.251917  ,  0.32939112,  0.39416113,  0.43918136,  0.47861367,\n",
       "         0.49880862,  0.50626838,  0.48598069,  0.46773544,  0.43038815,\n",
       "         0.39527509,  0.35772318,  0.29241234,  0.23005581,  0.17585102,\n",
       "         0.13399291,  0.10659787,  0.08753292,  0.07369256,  0.06629232],\n",
       "       [ 0.05714025,  0.05800951,  0.06297094,  0.07055376,  0.08235156,\n",
       "         0.09507991,  0.11406689,  0.12759377,  0.14088114,  0.15215531,\n",
       "         0.15792128,  0.16157696,  0.16084135,  0.15696622,  0.15481333,\n",
       "         0.14287807,  0.13481247,  0.11719069,  0.10438641,  0.08750433,\n",
       "         0.0773069 ,  0.06865347,  0.0648293 ,  0.05982955,  0.05871918],\n",
       "       [ 0.05623862,  0.05685455,  0.05799099,  0.05898111,  0.06140646,\n",
       "         0.06602112,  0.06891542,  0.07090779,  0.0745144 ,  0.0781873 ,\n",
       "         0.07957876,  0.08121269,  0.08103895,  0.08104239,  0.08111523,\n",
       "         0.07887784,  0.07846199,  0.07263373,  0.06787061,  0.06633077,\n",
       "         0.06294233,  0.06078189,  0.05879481,  0.05812249,  0.05773912],\n",
       "       [ 0.0570438 ,  0.05663086,  0.05823201,  0.05803991,  0.06115977,\n",
       "         0.06328001,  0.06778492,  0.06956749,  0.07251875,  0.07398701,\n",
       "         0.07895975,  0.08063413,  0.0835546 ,  0.07992738,  0.08171319,\n",
       "         0.0761202 ,  0.07506301,  0.07000786,  0.07006502,  0.06559769,\n",
       "         0.06377288,  0.05888136,  0.06065819,  0.05808182,  0.05806075],\n",
       "       [ 0.05547482,  0.05563096,  0.0561624 ,  0.05628157,  0.0575633 ,\n",
       "         0.05878739,  0.05984886,  0.05987171,  0.06159965,  0.06281402,\n",
       "         0.06307404,  0.06402376,  0.06349485,  0.06365696,  0.0637219 ,\n",
       "         0.06491739,  0.06344274,  0.06220944,  0.05992351,  0.06098741,\n",
       "         0.06022057,  0.0591518 ,  0.05673581,  0.0561367 ,  0.05611696],\n",
       "       [ 0.05673826,  0.054315  ,  0.05622419,  0.05458646,  0.05613263,\n",
       "         0.05611312,  0.05678702,  0.0541561 ,  0.05675161,  0.05516663,\n",
       "         0.05785749,  0.05649417,  0.05793854,  0.05648115,  0.05789325,\n",
       "         0.05560106,  0.05761773,  0.05727717,  0.05848898,  0.05617441,\n",
       "         0.05825994,  0.05618804,  0.05810169,  0.05523971,  0.05562352],\n",
       "       [ 0.05523494,  0.05533103,  0.05547621,  0.05446   ,  0.05471156,\n",
       "         0.0545705 ,  0.05594539,  0.05459847,  0.05588152,  0.0556053 ,\n",
       "         0.05397974,  0.0564719 ,  0.05584175,  0.05631145,  0.05607593,\n",
       "         0.05602767,  0.05641023,  0.05645368,  0.05492152,  0.05654218,\n",
       "         0.05577619,  0.05556029,  0.05590748,  0.05505441,  0.05588385],\n",
       "       [ 0.05551229,  0.05491402,  0.05586227,  0.0553813 ,  0.05615534,\n",
       "         0.05616682,  0.05674933,  0.05439921,  0.05545979,  0.05392535,\n",
       "         0.05706586,  0.05551653,  0.0560534 ,  0.05505053,  0.05434652,\n",
       "         0.05589386,  0.05819967,  0.05413978,  0.05742518,  0.05549671,\n",
       "         0.05592875,  0.05478923,  0.05659806,  0.05506643,  0.05609758],\n",
       "       [ 0.05434159,  0.05613536,  0.05424894,  0.05432501,  0.05449114,\n",
       "         0.05486229,  0.05473419,  0.05584542,  0.05503583,  0.05641468,\n",
       "         0.0555709 ,  0.0548199 ,  0.05408573,  0.05495131,  0.05534739,\n",
       "         0.05544798,  0.05455734,  0.05530255,  0.05530486,  0.0556234 ,\n",
       "         0.05545339,  0.05552797,  0.05468501,  0.05558133,  0.05609251],\n",
       "       [ 0.05612761,  0.05473236,  0.05772314,  0.05616284,  0.05581098,\n",
       "         0.05570125,  0.05565254,  0.05420671,  0.05634834,  0.05526434,\n",
       "         0.05691195,  0.05500505,  0.0558706 ,  0.05447179,  0.05797059,\n",
       "         0.05452259,  0.05742199,  0.05510697,  0.05661541,  0.05497767,\n",
       "         0.05575219,  0.05429421,  0.05581842,  0.0546642 ,  0.0568623 ],\n",
       "       [ 0.05534567,  0.0560537 ,  0.05500292,  0.05569433,  0.05525836,\n",
       "         0.05581081,  0.05608052,  0.05556754,  0.0541314 ,  0.05524676,\n",
       "         0.05394825,  0.05644264,  0.05512284,  0.0551782 ,  0.05633794,\n",
       "         0.05529683,  0.05559374,  0.05528897,  0.05408457,  0.05613197,\n",
       "         0.05491475,  0.05567497,  0.05597347,  0.05510619,  0.05469505],\n",
       "       [ 0.05680788,  0.05448486,  0.05591603,  0.05428783,  0.05644228,\n",
       "         0.05491846,  0.05704035,  0.05491764,  0.05719046,  0.05454951,\n",
       "         0.05579593,  0.05503192,  0.05682416,  0.05566853,  0.05598896,\n",
       "         0.05563468,  0.05601241,  0.05485298,  0.05689863,  0.05409706,\n",
       "         0.056278  ,  0.05469996,  0.05554926,  0.0557572 ,  0.05500219],\n",
       "       [ 0.05455043,  0.0556352 ,  0.05478692,  0.05638474,  0.05556012,\n",
       "         0.05631377,  0.05498659,  0.05592481,  0.05572246,  0.05496392,\n",
       "         0.05540129,  0.05572345,  0.05467627,  0.05492196,  0.05458234,\n",
       "         0.0557466 ,  0.05559162,  0.05642549,  0.05469748,  0.05544723,\n",
       "         0.05396916,  0.05468966,  0.05418089,  0.05569494,  0.05463014]], dtype=float32)"
      ]
     },
     "execution_count": 26,
     "metadata": {},
     "output_type": "execute_result"
    }
   ],
   "source": [
    "test[0, :, 12, :]"
   ]
  },
  {
   "cell_type": "code",
   "execution_count": null,
   "metadata": {
    "collapsed": true
   },
   "outputs": [],
   "source": []
  },
  {
   "cell_type": "code",
   "execution_count": null,
   "metadata": {
    "collapsed": true
   },
   "outputs": [],
   "source": []
  }
 ],
 "metadata": {
  "anaconda-cloud": {},
  "kernelspec": {
   "display_name": "Python 2",
   "language": "python",
   "name": "python2"
  },
  "language_info": {
   "codemirror_mode": {
    "name": "ipython",
    "version": 2
   },
   "file_extension": ".py",
   "mimetype": "text/x-python",
   "name": "python",
   "nbconvert_exporter": "python",
   "pygments_lexer": "ipython2",
   "version": "2.7.13"
  }
 },
 "nbformat": 4,
 "nbformat_minor": 2
}
